{
  "nbformat": 4,
  "nbformat_minor": 0,
  "metadata": {
    "colab": {
      "provenance": [],
      "toc_visible": true,
      "authorship_tag": "ABX9TyOE22nJVy0fdtv6UiTHBOIi",
      "include_colab_link": true
    },
    "kernelspec": {
      "name": "python3",
      "display_name": "Python 3"
    },
    "language_info": {
      "name": "python"
    }
  },
  "cells": [
    {
      "cell_type": "markdown",
      "metadata": {
        "id": "view-in-github",
        "colab_type": "text"
      },
      "source": [
        "<a href=\"https://colab.research.google.com/github/rocruzlathrop/retri-social/blob/main/Cuaderno_ejemplo.ipynb\" target=\"_parent\"><img src=\"https://colab.research.google.com/assets/colab-badge.svg\" alt=\"Open In Colab\"/></a>"
      ]
    },
    {
      "cell_type": "markdown",
      "source": [
        "# Cuaderno de ejemplos"
      ],
      "metadata": {
        "id": "BWI4XvKKfjJU"
      }
    },
    {
      "cell_type": "markdown",
      "source": [
        "Define una variable que sea una fila con 10 números"
      ],
      "metadata": {
        "id": "klmZUgIY7L4x"
      }
    },
    {
      "cell_type": "code",
      "source": [
        "X = range(10)"
      ],
      "metadata": {
        "id": "ZzbfeENx7Rig"
      },
      "execution_count": 1,
      "outputs": []
    },
    {
      "cell_type": "markdown",
      "source": [
        "En la siguiente fila visualizamos los dígitos"
      ],
      "metadata": {
        "id": "9TyT1A0s7kIx"
      }
    },
    {
      "cell_type": "code",
      "source": [
        "for value in X:\n",
        "  print(value)"
      ],
      "metadata": {
        "colab": {
          "base_uri": "https://localhost:8080/"
        },
        "id": "s7tvTSTQ7i2m",
        "outputId": "556ad171-bb1d-4711-af9e-ea84cf069c9f"
      },
      "execution_count": 2,
      "outputs": [
        {
          "output_type": "stream",
          "name": "stdout",
          "text": [
            "0\n",
            "1\n",
            "2\n",
            "3\n",
            "4\n",
            "5\n",
            "6\n",
            "7\n",
            "8\n",
            "9\n"
          ]
        }
      ]
    },
    {
      "cell_type": "markdown",
      "source": [
        "Ejemplo con Numpy"
      ],
      "metadata": {
        "id": "NkP7_iMIfkLI"
      }
    },
    {
      "cell_type": "code",
      "execution_count": null,
      "metadata": {
        "colab": {
          "base_uri": "https://localhost:8080/"
        },
        "id": "m6y1EJN3aTYO",
        "outputId": "d4e1a5db-410b-4d89-e921-5bcc9851d603"
      },
      "outputs": [
        {
          "output_type": "stream",
          "name": "stdout",
          "text": [
            "[2 4 6]\n"
          ]
        }
      ],
      "source": [
        "import numpy as np\n",
        "\n",
        "a = np.array([1, 2, 3])\n",
        "print(a * 2)  # [2 4 6]\n"
      ]
    },
    {
      "cell_type": "markdown",
      "source": [
        "Ejemplo con Pandas"
      ],
      "metadata": {
        "id": "gRLXG1_Rc7L0"
      }
    },
    {
      "cell_type": "code",
      "source": [
        "import pandas as pd\n",
        "\n",
        "df = pd.DataFrame({'Nombre': ['Ana', 'Luis'], 'Edad': [23, 35]})\n",
        "print(df['Edad'].mean())  # 29.0\n"
      ],
      "metadata": {
        "colab": {
          "base_uri": "https://localhost:8080/"
        },
        "id": "4qA3kC9lc-Hq",
        "outputId": "8c0f0c0f-99db-443c-88a4-dab3bd99c301"
      },
      "execution_count": null,
      "outputs": [
        {
          "output_type": "stream",
          "name": "stdout",
          "text": [
            "29.0\n"
          ]
        }
      ]
    },
    {
      "cell_type": "code",
      "source": [
        "import pandas as pd\n",
        "\n",
        "df = pd.DataFrame({'Nombre':['Ana','Luis','José'],'Edad': [23,35,45]})\n",
        "print(df['Edad'].mean())"
      ],
      "metadata": {
        "colab": {
          "base_uri": "https://localhost:8080/"
        },
        "id": "7_YIvHcBeNFE",
        "outputId": "2b8ab14b-1a26-43ff-9f7e-c71800216b82"
      },
      "execution_count": null,
      "outputs": [
        {
          "output_type": "stream",
          "name": "stdout",
          "text": [
            "34.333333333333336\n"
          ]
        }
      ]
    },
    {
      "cell_type": "markdown",
      "source": [
        "# Nueva sección"
      ],
      "metadata": {
        "id": "TGD8dhf-ff1c"
      }
    }
  ]
}