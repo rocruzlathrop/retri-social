{
  "nbformat": 4,
  "nbformat_minor": 0,
  "metadata": {
    "colab": {
      "provenance": [],
      "toc_visible": true,
      "authorship_tag": "ABX9TyPbpmC1tN9K8xe/fYYoR3u/",
      "include_colab_link": true
    },
    "kernelspec": {
      "name": "python3",
      "display_name": "Python 3"
    },
    "language_info": {
      "name": "python"
    }
  },
  "cells": [
    {
      "cell_type": "markdown",
      "metadata": {
        "id": "view-in-github",
        "colab_type": "text"
      },
      "source": [
        "<a href=\"https://colab.research.google.com/github/rocruzlathrop/retri-social/blob/main/Cuaderno_ejemplo.ipynb\" target=\"_parent\"><img src=\"https://colab.research.google.com/assets/colab-badge.svg\" alt=\"Open In Colab\"/></a>"
      ]
    },
    {
      "cell_type": "markdown",
      "source": [
        "# Cuaderno de ejemplos"
      ],
      "metadata": {
        "id": "BWI4XvKKfjJU"
      }
    },
    {
      "cell_type": "markdown",
      "source": [
        "Haz tú primer código"
      ],
      "metadata": {
        "id": "hFNvDwlnD9Qy"
      }
    },
    {
      "cell_type": "code",
      "source": [
        "print(\"Hola mundo\")"
      ],
      "metadata": {
        "colab": {
          "base_uri": "https://localhost:8080/"
        },
        "id": "MxNev9acD7xf",
        "outputId": "df3008df-9e43-453b-cc61-7f8abbbec913"
      },
      "execution_count": 4,
      "outputs": [
        {
          "output_type": "stream",
          "name": "stdout",
          "text": [
            "Hola mundo\n"
          ]
        }
      ]
    },
    {
      "cell_type": "markdown",
      "source": [
        "Define una variable que sea una fila con 10 números"
      ],
      "metadata": {
        "id": "klmZUgIY7L4x"
      }
    },
    {
      "cell_type": "code",
      "source": [
        "X = range(10)"
      ],
      "metadata": {
        "id": "ZzbfeENx7Rig"
      },
      "execution_count": null,
      "outputs": []
    },
    {
      "cell_type": "markdown",
      "source": [
        "En la siguiente fila visualizamos los dígitos"
      ],
      "metadata": {
        "id": "9TyT1A0s7kIx"
      }
    },
    {
      "cell_type": "code",
      "source": [
        "for value in X:\n",
        "  print(value)"
      ],
      "metadata": {
        "colab": {
          "base_uri": "https://localhost:8080/"
        },
        "id": "s7tvTSTQ7i2m",
        "outputId": "875ca81a-905b-4d48-80cf-79657db64741"
      },
      "execution_count": null,
      "outputs": [
        {
          "output_type": "stream",
          "name": "stdout",
          "text": [
            "0\n",
            "1\n",
            "2\n",
            "3\n",
            "4\n",
            "5\n",
            "6\n",
            "7\n",
            "8\n",
            "9\n"
          ]
        }
      ]
    },
    {
      "cell_type": "code",
      "source": [],
      "metadata": {
        "id": "7igoiNfC9JZ7"
      },
      "execution_count": null,
      "outputs": []
    },
    {
      "cell_type": "markdown",
      "source": [
        "Ejemplo con Numpy"
      ],
      "metadata": {
        "id": "NkP7_iMIfkLI"
      }
    },
    {
      "cell_type": "code",
      "execution_count": null,
      "metadata": {
        "colab": {
          "base_uri": "https://localhost:8080/"
        },
        "id": "m6y1EJN3aTYO",
        "outputId": "d4e1a5db-410b-4d89-e921-5bcc9851d603"
      },
      "outputs": [
        {
          "output_type": "stream",
          "name": "stdout",
          "text": [
            "[2 4 6]\n"
          ]
        }
      ],
      "source": [
        "import numpy as np\n",
        "\n",
        "a = np.array([1, 2, 3])\n",
        "print(a * 2)  # [2 4 6]\n"
      ]
    },
    {
      "cell_type": "markdown",
      "source": [
        "Ejemplo con Pandas"
      ],
      "metadata": {
        "id": "gRLXG1_Rc7L0"
      }
    },
    {
      "cell_type": "code",
      "source": [
        "import pandas as pd\n",
        "\n",
        "df = pd.DataFrame({'Nombre': ['Ana', 'Luis'], 'Edad': [23, 35]})\n",
        "print(df['Edad'].mean())  # 29.0\n"
      ],
      "metadata": {
        "colab": {
          "base_uri": "https://localhost:8080/"
        },
        "id": "4qA3kC9lc-Hq",
        "outputId": "8c0f0c0f-99db-443c-88a4-dab3bd99c301"
      },
      "execution_count": null,
      "outputs": [
        {
          "output_type": "stream",
          "name": "stdout",
          "text": [
            "29.0\n"
          ]
        }
      ]
    },
    {
      "cell_type": "code",
      "source": [
        "import pandas as pd\n",
        "\n",
        "df = pd.DataFrame({'Nombre':['Ana','Luis','José'],'Edad': [23,35,45]})\n",
        "print(df['Edad'].mean())"
      ],
      "metadata": {
        "colab": {
          "base_uri": "https://localhost:8080/"
        },
        "id": "7_YIvHcBeNFE",
        "outputId": "2b8ab14b-1a26-43ff-9f7e-c71800216b82"
      },
      "execution_count": null,
      "outputs": [
        {
          "output_type": "stream",
          "name": "stdout",
          "text": [
            "34.333333333333336\n"
          ]
        }
      ]
    },
    {
      "cell_type": "markdown",
      "source": [
        "# Código para búsqueda de noticias\n"
      ],
      "metadata": {
        "id": "2wjmL8opEgl9"
      }
    },
    {
      "cell_type": "code",
      "source": [
        "import requests\n",
        "import pandas as pd\n",
        "\n",
        "keyword = 'Zimbabwe 2017 protest'\n",
        "country_code = 'sn'  # Código de país de Senegal\n",
        "api_url = 'https://api.scrape-it.cloud/scrape/google'\n",
        "headers = {'x-api-key': ' 4bf9003c-b35c-42fb-925a-a22b91bf4cf7’}\n",
        "params = {\n",
        "    'q': keyword,\n",
        "    'domain': 'google.com',\n",
        "    'tbm': 'nws',\n",
        "    'tbs': 'cdr:1,cd_min:2017,cd_max:2017',\n",
        "    'sort': 'r',  # Filtro para obtener las noticias de mayor relevancia\n",
        "    'sn': country_code,  # Filtro por país\n",
        "    'num': 10  # Número de resultados por solicitud\n",
        "}\n",
        "\n",
        "all_news = []\n",
        "\n",
        "try:\n",
        "    # Primera solicitud\n",
        "    response = requests.get(api_url, params=params, headers=headers)\n",
        "    if response.status_code == 200:\n",
        "        data = response.json()\n",
        "        all_news.extend(data['newsResults'])\n",
        "    else:\n",
        "        print(f\"Error en la solicitud 1: {response.status_code}\")\n",
        "\n",
        "    # Segunda solicitud para obtener más resultados\n",
        "    params['start'] = 10  # Comienza desde el 11º resultado\n",
        "    response = requests.get(api_url, params=params, headers=headers)\n",
        "    if response.status_code == 200:\n",
        "        data = response.json()\n",
        "        all_news.extend(data['newsResults'])\n",
        "    else:\n",
        "        print(f\"Error en la solicitud 2: {response.status_code}\")\n",
        "\n",
        "    if all_news:\n",
        "        df = pd.DataFrame(all_news)\n",
        "        df.to_excel(\"Zimbabwe_2017_relevance_Senegal.xlsx\", index=False)\n",
        "except Exception as e:\n",
        "    print('Error:', e)\n"
      ],
      "metadata": {
        "id": "5lNJrVg5EpEx"
      },
      "execution_count": null,
      "outputs": []
    }
  ]
}